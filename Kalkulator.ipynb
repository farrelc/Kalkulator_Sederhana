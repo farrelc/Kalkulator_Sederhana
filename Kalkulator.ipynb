{
  "nbformat": 4,
  "nbformat_minor": 0,
  "metadata": {
    "colab": {
      "name": "Kalkulator.ipynb",
      "provenance": [],
      "collapsed_sections": []
    },
    "kernelspec": {
      "name": "python3",
      "display_name": "Python 3"
    },
    "language_info": {
      "name": "python"
    }
  },
  "cells": [
    {
      "cell_type": "markdown",
      "metadata": {
        "id": "LBk210r9KUGA"
      },
      "source": [
        "# KALKULATOR \n",
        "## Dua Buah Bilangan Bulat Sederhana \n",
        "\n",
        "\n",
        "---\n",
        "\n",
        "\n",
        "Maulana Farrel Ceskicevas\n",
        "\n",
        "referensi: https://github.com/ryantwt07/python-math-calculator-a-/blob/master/version5.py"
      ]
    },
    {
      "cell_type": "code",
      "metadata": {
        "id": "5hNFrfWNCfLN"
      },
      "source": [
        "def inp():\n",
        "  x = int(input(\"\"\"\n",
        "Enter 1 untuk Kalkulasi\n",
        "Enter 2 untuk Komparasi\n",
        ">>> \"\"\"))\n",
        "  return x"
      ],
      "execution_count": null,
      "outputs": []
    },
    {
      "cell_type": "code",
      "metadata": {
        "id": "eOGhZTqiBfm9"
      },
      "source": [
        "def kalkulasi():\n",
        "  val = False\n",
        "  while val == False:\n",
        "    print(\"=================================\\n\")\n",
        "    cmd = int(input(\"Enter 1 untuk Penjumlahan\\nEnter 2 untuk Pengurangan\\nEnter 3 untuk Perkalian\\nEnter 4 untuk Pembagian\\nEnter 5 untuk Pembagian dengan pembulatan ke bawah\\nEnter 6 untuk Modulus\\n>>> \"))\n",
        "    print(\"=================================\\n\")\n",
        "    if cmd in [1, 2, 3, 4, 5, 6]:\n",
        "      try:\n",
        "          num1 = int(input('Masukkan nilai pertama: '))\n",
        "          num2 = int(input('Masukkan nilai kedua: '))\n",
        "          if cmd == 1:\n",
        "             print(\n",
        "               '\\nHasil Penjumlahan, {x} + {y} ='.format(x=num1, y=num2), num1 + num2)\n",
        "          elif cmd == 2:\n",
        "              print(\n",
        "              '\\nHasil Pengurangan, {x} - {y} ='.format(x=num1, y=num2), num1 - num2)\n",
        "          elif cmd == 3:\n",
        "             print('\\nHasil Perkalian, {x} x {y} ='.format(x=num1, y=num2), num1 * num2)\n",
        "          elif cmd == 4:\n",
        "             print('\\nHasil Pembagian, {x} ÷ {y} ='.format(x=num1, y=num2), num1 / num2)\n",
        "          elif cmd == 5:\n",
        "             print('\\nHasil Pembagian, {x} ÷ {y} ='.format(x=num1, y=num2), num1 // num2)\n",
        "          else:\n",
        "             print('\\nModulus dari {x} % {y} = '.format(x=num1, y=num2), num1 % num2)\n",
        "          val = True\n",
        "      except ValueError:\n",
        "         print(\"Anda salah menginputkan nilai\")\n",
        "         print(\"Mohon masukkan bilangan bulat\")\n",
        "    else:\n",
        "      print(\"Anda salah menginputkan nilai\")  "
      ],
      "execution_count": null,
      "outputs": []
    },
    {
      "cell_type": "code",
      "metadata": {
        "id": "Kio9Pcu_B1uV"
      },
      "source": [
        "def komparasi():\n",
        "  val = False\n",
        "  while val == False:\n",
        "    print(\"=================================\\n\")\n",
        "    cmd = int(input(\"Enter 1 untuk Lebih kecil dari\\nEnter 2 untuk Lebih besar dari\\nEnter 3 untuk Lebih kecil sama dengan dari\\nEnter 4 untuk Lebih besar sama dengan dari\\n>>> \"))\n",
        "    print(\"=================================\\n\")\n",
        "    if cmd in [1, 2, 3, 4]:\n",
        "      try:\n",
        "        num1 = int(input('Masukkan nilai pertama: '))\n",
        "        num2 = int(input('Masukkan nilai kedua: '))\n",
        "        if cmd == 1:\n",
        "            print('\\nApakah {x} lebih kecil dari {y}?'.format(x=num1, y=num2), num1 < num2)\n",
        "        elif cmd == 2:\n",
        "            print('\\nApakah {x} lebih besar dari {y}?'.format(x=num1, y=num2), num1 > num2)\n",
        "        elif cmd == 3:\n",
        "            print('\\nApakah {x} lebih kecil sama dengan dari {y}?'.format(x=num1, y=num2), num1 <= num2)\n",
        "        else:\n",
        "            print('\\nApakah {x} lebih besar sama dengan dari {y}?'.format(x=num1, y=num2), num1 >= num2)\n",
        "        val = True\n",
        "      except ValueError:\n",
        "          print(\"Anda salah menginputkan nilai\")\n",
        "          print(\"Mohon masukkan bilangan bulat\")\n",
        "    else:\n",
        "        print(\"Anda salah menginputkan nilai\")"
      ],
      "execution_count": null,
      "outputs": []
    },
    {
      "cell_type": "code",
      "metadata": {
        "id": "ZImx1QBtKPt6"
      },
      "source": [
        "def main():\n",
        "  print(\"KALKULATOR\\nDua Buah Bilangan Bulat Sederhana\\n=================================\")\n",
        "  val = False\n",
        "  while val == False:\n",
        "    mcmd = inp()\n",
        "    if mcmd == 1:\n",
        "      kalkulasi()\n",
        "    elif mcmd == 2:\n",
        "      komparasi()\n",
        "    else:\n",
        "      print(\"Anda salah menginputkan nilai\")\n",
        "      print(\"Mohon masukkan 1 atau 2\")\n",
        "    print(\"=================================\\n\")\n",
        "    mval = int(input(\"Enter 0 untuk Keluar\\nEnter 1 untuk Lanjut\\n>>> \"))\n",
        "    print(\"=================================\")\n",
        "    if mval == 0:\n",
        "      val = True\n",
        "main()"
      ],
      "execution_count": null,
      "outputs": []
    }
  ]
}